{
 "cells": [
  {
   "cell_type": "markdown",
   "id": "f3008786",
   "metadata": {
    "papermill": {
     "duration": 0.004227,
     "end_time": "2024-05-28T19:44:08.245967",
     "exception": false,
     "start_time": "2024-05-28T19:44:08.241740",
     "status": "completed"
    },
    "tags": []
   },
   "source": [
    "# **Coding the model environment for the relevant problem and displaying it on the screen**\n",
    "\n",
    "> **NumPy** kütüphanesi, özellikle sayısal işlemler ve dizilerle çalışmak için kullanılır.\n",
    "\n",
    "> Ortamın **11x11** boyutlarında olduğunu belirtiyoruz.\n",
    "\n",
    "> Her bir durum (11x11 griddeki her hücre) ve her bir eylem (yukarı, sağ, aşağı, sol) için Q değerleri **sıfır**dan başlatılır. q_degerleri matrisi, **11x11x4** boyutlarındadır.\n",
    "\n",
    "> Q-öğrenme algoritmasının kullanabileceği **hareketler (eylemler)** belirlenir.\n",
    "\n",
    "> 11x11 boyutlarında, başlangıçta tüm hücreler için ödül değerlerini **-100** olarak ayarlayan bir **ödül matrisi** oluşturulur.\n",
    "\n",
    "> Hedef durum olan **(0, 5)** konumunun ödülü **100** olarak ayarlanır.\n",
    "\n",
    "> **Geçitler**, ajan için **geçilebilir hücreleri** belirler. Her bir satır indeksi için geçilebilir sütun indekslerinin bir listesi oluşturulur.\n",
    "\n",
    "> Geçitlerdeki hücrelerin ödülleri **-1** olarak ayarlanır, böylece ajan bu hücrelerden geçerken sadece *küçük bir ceza* alır.\n",
    "\n",
    "> Ödül matrisi **satır satır** ekrana yazdırılır."
   ]
  },
  {
   "cell_type": "code",
   "execution_count": 1,
   "id": "ecd5a8ab",
   "metadata": {
    "execution": {
     "iopub.execute_input": "2024-05-28T19:44:08.254958Z",
     "iopub.status.busy": "2024-05-28T19:44:08.254595Z",
     "iopub.status.idle": "2024-05-28T19:44:08.276853Z",
     "shell.execute_reply": "2024-05-28T19:44:08.275519Z"
    },
    "papermill": {
     "duration": 0.029812,
     "end_time": "2024-05-28T19:44:08.279708",
     "exception": false,
     "start_time": "2024-05-28T19:44:08.249896",
     "status": "completed"
    },
    "tags": []
   },
   "outputs": [
    {
     "name": "stdout",
     "output_type": "stream",
     "text": [
      "[-100. -100. -100. -100. -100.  100. -100. -100. -100. -100. -100.]\n",
      "[-100.   -1.   -1.   -1.   -1.   -1.   -1.   -1.   -1.   -1. -100.]\n",
      "[-100.   -1. -100. -100. -100. -100. -100.   -1. -100.   -1. -100.]\n",
      "[-100.   -1.   -1.   -1.   -1.   -1.   -1.   -1. -100.   -1. -100.]\n",
      "[-100. -100. -100.   -1. -100. -100. -100.   -1. -100. -100. -100.]\n",
      "[-1. -1. -1. -1. -1. -1. -1. -1. -1. -1. -1.]\n",
      "[-100. -100. -100. -100. -100.   -1. -100. -100. -100. -100. -100.]\n",
      "[-100.   -1.   -1.   -1.   -1.   -1.   -1.   -1.   -1.   -1. -100.]\n",
      "[-100. -100. -100.   -1. -100. -100. -100.   -1. -100. -100. -100.]\n",
      "[-1. -1. -1. -1. -1. -1. -1. -1. -1. -1. -1.]\n",
      "[-100. -100. -100. -100. -100. -100. -100. -100. -100. -100. -100.]\n"
     ]
    }
   ],
   "source": [
    "#Gerekli kütüphanenin yüklenmesi\n",
    "import numpy as np\n",
    "#Ortamın boyutlarının belirlenmesi\n",
    "ortam_satir_sayisi = 11\n",
    "ortam_sutun_sayisi = 11\n",
    "#Q-değerlerinin başlangıçta sıfır olarak ayarlanması\n",
    "q_degerleri = np.zeros((ortam_satir_sayisi, ortam_sutun_sayisi, 4))\n",
    "#Hareketlerin tanımlanması\n",
    "hareketler = ['yukari', 'sag', 'asagi', 'sol']\n",
    "#Ödül matrisinin oluşturulması\n",
    "oduller = np.full((ortam_satir_sayisi, ortam_sutun_sayisi), -100.)\n",
    "#Hedef durumun ödülünün ayarlanması\n",
    "oduller[0, 5] = 100.\n",
    "#Geçitlerin tanımlanması\n",
    "gecitler = {} \n",
    "gecitler[1] = [i for i in range(1, 10)]\n",
    "gecitler[2] = [1, 7, 9]\n",
    "gecitler[3] = [i for i in range(1, 8)]\n",
    "gecitler[3].append(9)\n",
    "gecitler[4] = [3, 7]\n",
    "gecitler[5] = [i for i in range(11)]\n",
    "gecitler[6] = [5]\n",
    "gecitler[7] = [i for i in range(1, 10)]\n",
    "gecitler[8] = [3, 7]\n",
    "gecitler[9] = [i for i in range(11)]\n",
    "\n",
    "#Geçitlerin ödüllerinin ayarlanması\n",
    "for satir_indeks in range(1, 10):\n",
    "  for sutun_indeks in gecitler[satir_indeks]:\n",
    "    oduller[satir_indeks, sutun_indeks] = -1.\n",
    "    \n",
    "#Ödül matrisinin ekrana yazdırılması\n",
    "for satir in oduller:\n",
    "  print(satir)"
   ]
  },
  {
   "cell_type": "markdown",
   "id": "582fc911",
   "metadata": {
    "papermill": {
     "duration": 0.005263,
     "end_time": "2024-05-28T19:44:08.290756",
     "exception": false,
     "start_time": "2024-05-28T19:44:08.285493",
     "status": "completed"
    },
    "tags": []
   },
   "source": [
    "# **Coding of robot movement mechanisms**\n",
    "\n",
    "> Ardından robotun her hareketinde beyaz karede kalıp kalmadığını belirleyen, her yeni hareket döngülerinde başlangıç noktası atamasını yapan ve her yeni karede bir sonraki hareket noktasını yeni Q tablosu ile belirleyen fonksiyonlar tanımlanır.\n",
    "\n",
    "> **engel_mi** fonksiyonu robotun hareket etmesi sonrası gelinen hücrenin engel (yani kargo indirilen siyah ya da hedef yeşil kare) olup olmadığını tespit etmektedir.\n",
    "> \n",
    "> *gecerli_satir_indeks ve gecerli_sutun_indeks* parametreleri, kontrol edilmesi gereken hücrenin indeksleridir.Eğer ödül matrisi (oduller) bu hücrede **-1** değerine sahipse, bu hücrenin geçit (engel değil) olduğu anlamına gelir ve fonksiyon **False** döner. Aksi takdirde, bu hücrenin bir engel olduğu anlamına gelir ve fonksiyon True döner.\n",
    "\n",
    "> **baslangic_belirle** fonksiyonu robotun her yeni öğrenme döngüsünde rastgele beyaz karelerden birinden başlamasını sağlanmaktadır. Bunun için daha önce yazılan *engel_mi* fonksiyonundan da faydalanılmaktadır.\n",
    "> \n",
    "> Önce, **rastgele** bir satır ve sütun indeksi seçilir.Seçilen hücre engel mi (engel_mi fonksiyonu kullanılarak) kontrol edilir.Eğer seçilen hücre bir engel ise, **yeni** bir satır ve sütun indeksi seçilir. Bu işlem, engel olmayan bir hücre bulunana kadar devam eder.Fonksiyon, engel olmayan bir hücrenin satır ve sütun indekslerini döner.\n",
    "\n",
    "> **sonraki_hareket_belirle** fonksiyonu robotun mevcut konumundan sonra hareket edebileceği sonraki konumu eğitim sonunda elde edilen Q tablosundan belirlemektedir. \n",
    "> Bu noktada buradaki kod yapısına özel olarak belirlenen **epsilon** değeri de *şans faktörü* olarak dikkate alınmaktadır. Buna göre, epsilon değerinden küçük olan rastgele bir değer üretilirse puan tablosundan **maksimum değerin**, eşit ya da büyük rastgele bir değer üretilirse de bir başka **rastgele değerin (puan tablosu dikkate alınmadan)** döndürülmesi sağlanmaktadır. \n",
    "> \n",
    "> gecerli_satir_indeks ve gecerli_sutun_indeks parametreleri, mevcut durumun indeksleridir. **epsilon** parametresi, keşif oranını belirler *(0 ile 1 arasında bir değerdir)*. Eğer rastgele seçilen bir sayı **(0 ile 1 arasında)** epsilon'dan küçükse, en yüksek Q-değerine sahip hareket seçilir **(np.argmax kullanılarak)**. Aksi takdirde, rastgele bir hareket seçilir **(np.random.randint(4) kullanılarak)**. Burada 4, dört olası hareketin **(yukarı, sağ, aşağı, sol)** indekslerini temsil eder."
   ]
  },
  {
   "cell_type": "code",
   "execution_count": 2,
   "id": "9f1d7fd7",
   "metadata": {
    "execution": {
     "iopub.execute_input": "2024-05-28T19:44:08.302600Z",
     "iopub.status.busy": "2024-05-28T19:44:08.302094Z",
     "iopub.status.idle": "2024-05-28T19:44:08.310317Z",
     "shell.execute_reply": "2024-05-28T19:44:08.309461Z"
    },
    "papermill": {
     "duration": 0.017469,
     "end_time": "2024-05-28T19:44:08.312742",
     "exception": false,
     "start_time": "2024-05-28T19:44:08.295273",
     "status": "completed"
    },
    "tags": []
   },
   "outputs": [],
   "source": [
    "#Verilen bir hücrenin engel olup olmadığını kontrol eden fonk.\n",
    "def engel_mi(gecerli_satir_indeks, gecerli_sutun_indeks):\n",
    "  if oduller[gecerli_satir_indeks, gecerli_sutun_indeks] == -1.:\n",
    "    return False\n",
    "  else:\n",
    "    return True\n",
    "\n",
    "#Rastgele bir başlangıç konumu belirleyen fonk. Belirlenen konum bir engel olmamalıdır.\n",
    "def baslangic_belirle():\n",
    "  gecerli_satir_indeks = np.random.randint(ortam_satir_sayisi)\n",
    "  gecerli_sutun_indeks = np.random.randint(ortam_sutun_sayisi)\n",
    "  while engel_mi(gecerli_satir_indeks, gecerli_sutun_indeks):\n",
    "    gecerli_satir_indeks = np.random.randint(ortam_satir_sayisi)\n",
    "    gecerli_sutun_indeks = np.random.randint(ortam_sutun_sayisi)\n",
    "  return gecerli_satir_indeks, gecerli_sutun_indeks\n",
    "\n",
    "#epsilon-greedy politikası kullanarak bir sonraki hareketi belirleyen fonk. Satranç örn.\n",
    "def sonraki_hareket_belirle(gecerli_satir_indeks, gecerli_sutun_indeks, epsilon):\n",
    "  if np.random.random() < epsilon:\n",
    "    return np.argmax(q_degerleri[gecerli_satir_indeks, gecerli_sutun_indeks])\n",
    "  else: \n",
    "    return np.random.randint(4)"
   ]
  },
  {
   "cell_type": "markdown",
   "id": "625710fc",
   "metadata": {
    "papermill": {
     "duration": 0.005198,
     "end_time": "2024-05-28T19:44:08.323027",
     "exception": false,
     "start_time": "2024-05-28T19:44:08.317829",
     "status": "completed"
    },
    "tags": []
   },
   "source": [
    "# **Robot future movement mechanism coding**\n",
    "\n",
    "> **sonraki_noktaya_git** fonksiyonu sayesinde, robotun bir sonraki hareketi satır sütun ekseninde belirlenmekte; yeni hareket noktasına göre robotun yukarı hareketinde satır değeri azaltılıp, aşağı hareketinde artırılmakta, yine sağa harekette sütun değeri artırılıp, sola harekette azaltılmaktadır. \n",
    "> \n",
    "> **gecerli_satir_indeks ve gecerli_sutun_indeks:** Mevcut satır ve sütun indekslerini temsil eder.\n",
    "> **hareket_indeks:** Gerçekleştirilecek hareketin indeksini belirtir *(0: yukarı, 1: sağ, 2: aşağı, 3: sol)*.\n",
    "> **yeni_satir_indeks ve yeni_sutun_indeks:** Yeni konumun satır ve sütun indekslerini temsil eder.\n",
    "> Hareketler kontrol edilir ve eğer hareket geçerli bir yönde yapılabiliyorsa (if koşulları), yeni indeksler güncellenir.Son olarak, yeni satır ve sütun indeksleri döner."
   ]
  },
  {
   "cell_type": "code",
   "execution_count": 3,
   "id": "51745abb",
   "metadata": {
    "execution": {
     "iopub.execute_input": "2024-05-28T19:44:08.333982Z",
     "iopub.status.busy": "2024-05-28T19:44:08.333426Z",
     "iopub.status.idle": "2024-05-28T19:44:08.341656Z",
     "shell.execute_reply": "2024-05-28T19:44:08.340646Z"
    },
    "papermill": {
     "duration": 0.016686,
     "end_time": "2024-05-28T19:44:08.343974",
     "exception": false,
     "start_time": "2024-05-28T19:44:08.327288",
     "status": "completed"
    },
    "tags": []
   },
   "outputs": [],
   "source": [
    "#Mevcut konumdan belirtilen bir hareketi gerçekleştirerek yeni bir konuma geçiş yapan fonk. \n",
    "#Hareketler \"yukarı\", \"sağ\", \"aşağı\" ve \"sol\" olarak tanımlanmıştır. \n",
    "def sonraki_noktaya_git(gecerli_satir_indeks, gecerli_sutun_indeks, hareket_indeks):\n",
    "  yeni_satir_indeks = gecerli_satir_indeks\n",
    "  yeni_sutun_indeks = gecerli_sutun_indeks\n",
    "  if hareketler[hareket_indeks] == 'yukari' and gecerli_satir_indeks > 0:\n",
    "    yeni_satir_indeks -= 1\n",
    "  elif hareketler[hareket_indeks] == 'sag' and gecerli_sutun_indeks < ortam_sutun_sayisi - 1:\n",
    "    yeni_sutun_indeks += 1\n",
    "  elif hareketler[hareket_indeks] == 'asagi' and gecerli_satir_indeks < ortam_satir_sayisi - 1:\n",
    "    yeni_satir_indeks += 1\n",
    "  elif hareketler[hareket_indeks] == 'sol' and gecerli_sutun_indeks > 0:\n",
    "    yeni_sutun_indeks -= 1\n",
    "  return yeni_satir_indeks, yeni_sutun_indeks"
   ]
  },
  {
   "cell_type": "markdown",
   "id": "913aaae1",
   "metadata": {
    "papermill": {
     "duration": 0.004507,
     "end_time": "2024-05-28T19:44:08.353781",
     "exception": false,
     "start_time": "2024-05-28T19:44:08.349274",
     "status": "completed"
    },
    "tags": []
   },
   "source": [
    "# **Convenient path detection function**\n",
    "\n",
    "> Robotun Q-Öğrenme ile eğitimi sonrasında belirlenmiş olan **en uygun** yolu verecek fonksiyon yazılır.\n",
    "> \n",
    "> basla_satir_indeks ve basla_sutun_indeks: Başlangıç konumunun satır ve sütun indekslerini temsil eder. İlk olarak, başlangıç konumunun bir engel olup olmadığı kontrol edilir (*engel_mi* fonksiyonu kullanılarak). Eğer engelse, **boş bir liste** döner. Değilse, mevcut konum başlangıç konumu olarak ayarlanır ve **en_kisa listesi** bu konumu içerir.**Bir döngü içinde, mevcut konum engel veya hedef değilken:** *sonraki_hareket_belirle* fonksiyonu kullanılarak bir sonraki hareket belirlenir *(epsilon değeri 1 olarak verilir, yani tamamen keşif)*.\n",
    "**sonraki_noktaya_git** fonksiyonu kullanılarak belirlenen hareket gerçekleştirilir ve yeni konum güncellenir.Yeni konum en_kisa listesine eklenir. Engel veya hedef bulunduğunda, **en_kisa listesi** döner."
   ]
  },
  {
   "cell_type": "code",
   "execution_count": 4,
   "id": "c55dd7ca",
   "metadata": {
    "execution": {
     "iopub.execute_input": "2024-05-28T19:44:08.366453Z",
     "iopub.status.busy": "2024-05-28T19:44:08.365737Z",
     "iopub.status.idle": "2024-05-28T19:44:08.372187Z",
     "shell.execute_reply": "2024-05-28T19:44:08.371318Z"
    },
    "papermill": {
     "duration": 0.015371,
     "end_time": "2024-05-28T19:44:08.374062",
     "exception": false,
     "start_time": "2024-05-28T19:44:08.358691",
     "status": "completed"
    },
    "tags": []
   },
   "outputs": [],
   "source": [
    "#Belirtilen başlangıç konumundan bir engel veya hedefe ulaşana kadar en kısa yolu bulmayı amaçlar.\n",
    "def en_kisa_mesafe(basla_satir_indeks, basla_sutun_indeks):\n",
    "  if engel_mi(basla_satir_indeks, basla_sutun_indeks):\n",
    "    return []\n",
    "  else:\n",
    "    gecerli_satir_indeks, gecerli_sutun_indeks = basla_satir_indeks, basla_sutun_indeks\n",
    "    en_kisa = []\n",
    "    en_kisa.append([gecerli_satir_indeks, gecerli_sutun_indeks])\n",
    "    while not engel_mi(gecerli_satir_indeks, gecerli_sutun_indeks):\n",
    "      hareket_indeks = sonraki_hareket_belirle(gecerli_satir_indeks, gecerli_sutun_indeks, 1.)\n",
    "      gecerli_satir_indeks, gecerli_sutun_indeks = sonraki_noktaya_git(gecerli_satir_indeks, \n",
    "                                                                       gecerli_sutun_indeks, hareket_indeks)\n",
    "      en_kisa.append([gecerli_satir_indeks, gecerli_sutun_indeks])\n",
    "    return en_kisa"
   ]
  },
  {
   "cell_type": "markdown",
   "id": "a76f5220",
   "metadata": {
    "papermill": {
     "duration": 0.003585,
     "end_time": "2024-05-28T19:44:08.381755",
     "exception": false,
     "start_time": "2024-05-28T19:44:08.378170",
     "status": "completed"
    },
    "tags": []
   },
   "source": [
    "# **Q-Learning process codes**\n",
    "\n",
    "> Son olarak, robotun **takviyeli öğrenmesini** sağlayacak; Q-Öğrenme ana fonksiyonu ve öğrenme parametreleri kodlanır.\n",
    "\n",
    "> Q-Öğrenme döngüsü tanımlanmakta, buna göre **range** fonksiyonu içerisinde verilen değer **maksimum öğrenme adım sayısı** olmaktadır. \n",
    "\n",
    "> **engel_mi** fonksiyonundan faydalanılmaktadır. Yine her yeni harekette **sonraki_hareket_belirle** fonksiyonu çağırılarak robotun hareket ettirilmesi sağlanmaktadır. \n",
    "\n",
    "> **Q-Öğrenme formülü** üzerinden hesaplama yapılarak, başlangıçta boş tasarlanan **q_degerleri** adıyla temsil edilen *Q tablosunda* güncellemeler yapılmaktadır. \n",
    "\n",
    "> Eğitim sona erdiğinde ekrana *‘Eğitim tamamlandı.’* ibaresi yansıtılmaktadır. \n",
    "\n",
    "> **epsilon = 0.9:** Keşif (exploration) ve sömürü (exploitation) arasındaki dengeyi belirler. epsilon değeri yüksekse, ajan daha çok keşif yapar.\n",
    "> **azalma_degeri = 0.9 (discount factor):** Gelecekteki ödüllerin bugünkü değerini belirler.\n",
    "> **ogrenme_orani = 0.9 (learning rate):** Q-değerlerinin güncellenme hızını belirler.\n",
    "\n",
    "> **Başlangıçta Yüksek Epsilon:** Eğitim sürecinin başında epsilon değeri genellikle yüksek tutulur. Bu, ajanın çevresini geniş ölçüde keşfetmesini sağlar.\n",
    "> **Zamanla Azalan Epsilon:** Eğitim ilerledikçe epsilon değeri kademeli olarak azaltılır. Bu, ajanın giderek daha fazla sömürü yaparak öğrendiği bilgiyi kullanmasını sağlar.\n",
    "\n",
    "> baslangic_belirle() fonksiyonu kullanılarak **rastgele** bir başlangıç noktası seçilir.\n",
    "> Hedefe ulaşılana kadar döngü devam eder.\n",
    "> **sonraki_hareket_belirle** fonksiyonu kullanılarak bir sonraki hareket belirlenir.\n",
    "> **sonraki_noktaya_git** fonksiyonu ile ajan yeni konuma geçer.\n",
    "> Yeni konumdaki ödül değeri alınır.\n",
    "> Eski Q-değeri ve yeni Q-değerleri hesaplanır ve **Q-tablosu** güncellenir.\n",
    "\n",
    "> Eğitim ile anlık ödüllerden ziyade, **gelecekteki** ödülleri de göz önünde bulundurarak karar vermeyi sağlar. Ajan, eğitim süresi boyunca **çevresini keşfeder** ve farklı durum-eylem çiftlerinden elde ettiği ödüllerle Q-tablosunu günceller. Bu sayede, ajan her duruma en uygun hareketi belirlemek için gerekli bilgiye sahip olur."
   ]
  },
  {
   "cell_type": "code",
   "execution_count": 5,
   "id": "0ba8fec2",
   "metadata": {
    "execution": {
     "iopub.execute_input": "2024-05-28T19:44:08.390549Z",
     "iopub.status.busy": "2024-05-28T19:44:08.390277Z",
     "iopub.status.idle": "2024-05-28T19:44:08.571350Z",
     "shell.execute_reply": "2024-05-28T19:44:08.570360Z"
    },
    "papermill": {
     "duration": 0.188226,
     "end_time": "2024-05-28T19:44:08.573692",
     "exception": false,
     "start_time": "2024-05-28T19:44:08.385466",
     "status": "completed"
    },
    "tags": []
   },
   "outputs": [
    {
     "name": "stdout",
     "output_type": "stream",
     "text": [
      "Eğitim tamamlandı.\n"
     ]
    }
   ],
   "source": [
    "#Parametrelerin Tanımlanması\n",
    "epsilon = 0.9\n",
    "azalma_degeri = 0.9 \n",
    "ogrenme_orani = 0.9 \n",
    "\n",
    "#Eğitim Döngüsü \n",
    "#1000 adımdan oluşan bir döngüde Q-learning eğitimi yapılır.\n",
    "for adim in range(1000):\n",
    "  satir_indeks, sutun_indeks = baslangic_belirle()  \n",
    "  while not engel_mi(satir_indeks, sutun_indeks):\n",
    "    hareket_indeks = sonraki_hareket_belirle(satir_indeks, sutun_indeks, epsilon)\n",
    "    eski_satir_indeks, eski_sutun_indeks = satir_indeks, sutun_indeks\n",
    "    satir_indeks, sutun_indeks = sonraki_noktaya_git(satir_indeks, sutun_indeks, hareket_indeks)\n",
    "    odul = oduller[satir_indeks, sutun_indeks] #Ödül ve Q-Değerlerinin Güncellenmesi\n",
    "    eski_q_degeri = q_degerleri[eski_satir_indeks, eski_sutun_indeks, hareket_indeks]\n",
    "    fark = odul + (azalma_degeri * np.max(q_degerleri[satir_indeks, sutun_indeks])) - eski_q_degeri\n",
    "    yeni_q_degeri = eski_q_degeri + (ogrenme_orani * fark)\n",
    "    q_degerleri[eski_satir_indeks, eski_sutun_indeks, hareket_indeks] = yeni_q_degeri\n",
    "print('Eğitim tamamlandı.')"
   ]
  },
  {
   "cell_type": "markdown",
   "id": "5b307b4e",
   "metadata": {
    "papermill": {
     "duration": 0.004019,
     "end_time": "2024-05-28T19:44:08.582002",
     "exception": false,
     "start_time": "2024-05-28T19:44:08.577983",
     "status": "completed"
    },
    "tags": []
   },
   "source": [
    "# **Appropriate road/route determination based on starting point**\n",
    "\n",
    "> Eğitilen robot Q tablosunda kendisini yeşil kareye götürecek uygun rotaları belirlemiş olduğu için kullanıcıdan herhangi bir başlangıç noktası (satır ve sütun indeks değerine göre) istenerek kargonun indirilmesi için izlenecek yolun/rotanın ekrana yazdırılması sağlanır.\n",
    "\n",
    "> Kullanıcıdan başlangıç satır indeksi ve başlangıç sütun indeksi istenmektedir. Kullanıcıdan alınan bilgiler ışığında, **en_kisa_mesafe** fonksiyonu kullanılmak suretiyle robotun yeşil karede kargo indirmek için izleyeceği rota ekrana yazdırılmaktadır."
   ]
  },
  {
   "cell_type": "code",
   "execution_count": 6,
   "id": "10cddc3d",
   "metadata": {
    "_cell_guid": "b1076dfc-b9ad-4769-8c92-a6c4dae69d19",
    "_uuid": "8f2839f25d086af736a60e9eeb907d3b93b6e0e5",
    "execution": {
     "iopub.execute_input": "2024-05-28T19:44:08.590673Z",
     "iopub.status.busy": "2024-05-28T19:44:08.590419Z",
     "iopub.status.idle": "2024-05-28T19:44:09.044516Z",
     "shell.execute_reply": "2024-05-28T19:44:09.043291Z"
    },
    "papermill": {
     "duration": 0.460307,
     "end_time": "2024-05-28T19:44:09.046063",
     "exception": true,
     "start_time": "2024-05-28T19:44:08.585756",
     "status": "failed"
    },
    "tags": []
   },
   "outputs": [
    {
     "ename": "StdinNotImplementedError",
     "evalue": "raw_input was called, but this frontend does not support input requests.",
     "output_type": "error",
     "traceback": [
      "\u001b[0;31m---------------------------------------------------------------------------\u001b[0m",
      "\u001b[0;31mStdinNotImplementedError\u001b[0m                  Traceback (most recent call last)",
      "Cell \u001b[0;32mIn[6], line 3\u001b[0m\n\u001b[1;32m      1\u001b[0m \u001b[38;5;66;03m#Eğitim Sonrası Test\u001b[39;00m\n\u001b[1;32m      2\u001b[0m \u001b[38;5;66;03m#Kullanıcıdan Başlangıç Noktası Alınması\u001b[39;00m\n\u001b[0;32m----> 3\u001b[0m ogr_sonrasi_satir \u001b[38;5;241m=\u001b[39m \u001b[38;5;28;43minput\u001b[39;49m\u001b[43m(\u001b[49m\u001b[38;5;124;43m'\u001b[39;49m\u001b[38;5;124;43mRobotun harekete başlayacağı satır indeksini giriniz:\u001b[39;49m\u001b[38;5;124;43m'\u001b[39;49m\u001b[43m)\u001b[49m\n\u001b[1;32m      4\u001b[0m ogr_sonrasi_sutun \u001b[38;5;241m=\u001b[39m \u001b[38;5;28minput\u001b[39m(\u001b[38;5;124m'\u001b[39m\u001b[38;5;124mRobotun harekete başlayacağı sütun indeksini giriniz:\u001b[39m\u001b[38;5;124m'\u001b[39m)\n\u001b[1;32m      6\u001b[0m \u001b[38;5;66;03m#En Kısa Mesafenin Hesaplanması ve Yazdırılması\u001b[39;00m\n",
      "File \u001b[0;32m/opt/conda/lib/python3.10/site-packages/ipykernel/kernelbase.py:1261\u001b[0m, in \u001b[0;36mKernel.raw_input\u001b[0;34m(self, prompt)\u001b[0m\n\u001b[1;32m   1259\u001b[0m \u001b[38;5;28;01mif\u001b[39;00m \u001b[38;5;129;01mnot\u001b[39;00m \u001b[38;5;28mself\u001b[39m\u001b[38;5;241m.\u001b[39m_allow_stdin:\n\u001b[1;32m   1260\u001b[0m     msg \u001b[38;5;241m=\u001b[39m \u001b[38;5;124m\"\u001b[39m\u001b[38;5;124mraw_input was called, but this frontend does not support input requests.\u001b[39m\u001b[38;5;124m\"\u001b[39m\n\u001b[0;32m-> 1261\u001b[0m     \u001b[38;5;28;01mraise\u001b[39;00m StdinNotImplementedError(msg)\n\u001b[1;32m   1262\u001b[0m \u001b[38;5;28;01mreturn\u001b[39;00m \u001b[38;5;28mself\u001b[39m\u001b[38;5;241m.\u001b[39m_input_request(\n\u001b[1;32m   1263\u001b[0m     \u001b[38;5;28mstr\u001b[39m(prompt),\n\u001b[1;32m   1264\u001b[0m     \u001b[38;5;28mself\u001b[39m\u001b[38;5;241m.\u001b[39m_parent_ident[\u001b[38;5;124m\"\u001b[39m\u001b[38;5;124mshell\u001b[39m\u001b[38;5;124m\"\u001b[39m],\n\u001b[1;32m   1265\u001b[0m     \u001b[38;5;28mself\u001b[39m\u001b[38;5;241m.\u001b[39mget_parent(\u001b[38;5;124m\"\u001b[39m\u001b[38;5;124mshell\u001b[39m\u001b[38;5;124m\"\u001b[39m),\n\u001b[1;32m   1266\u001b[0m     password\u001b[38;5;241m=\u001b[39m\u001b[38;5;28;01mFalse\u001b[39;00m,\n\u001b[1;32m   1267\u001b[0m )\n",
      "\u001b[0;31mStdinNotImplementedError\u001b[0m: raw_input was called, but this frontend does not support input requests."
     ]
    }
   ],
   "source": [
    "#Eğitim Sonrası Test\n",
    "#Kullanıcıdan Başlangıç Noktası Alınması\n",
    "ogr_sonrasi_satir = input('Robotun harekete başlayacağı satır indeksini giriniz:')\n",
    "ogr_sonrasi_sutun = input('Robotun harekete başlayacağı sütun indeksini giriniz:')\n",
    "\n",
    "#En Kısa Mesafenin Hesaplanması ve Yazdırılması\n",
    "print('Kargo noktasına giden rota:',\n",
    "      en_kisa_mesafe(int(ogr_sonrasi_satir), int(ogr_sonrasi_sutun)))"
   ]
  }
 ],
 "metadata": {
  "kaggle": {
   "accelerator": "nvidiaTeslaT4",
   "dataSources": [],
   "dockerImageVersionId": 30698,
   "isGpuEnabled": true,
   "isInternetEnabled": true,
   "language": "python",
   "sourceType": "notebook"
  },
  "kernelspec": {
   "display_name": "Python 3",
   "language": "python",
   "name": "python3"
  },
  "language_info": {
   "codemirror_mode": {
    "name": "ipython",
    "version": 3
   },
   "file_extension": ".py",
   "mimetype": "text/x-python",
   "name": "python",
   "nbconvert_exporter": "python",
   "pygments_lexer": "ipython3",
   "version": "3.10.13"
  },
  "papermill": {
   "default_parameters": {},
   "duration": 4.941449,
   "end_time": "2024-05-28T19:44:09.367566",
   "environment_variables": {},
   "exception": true,
   "input_path": "__notebook__.ipynb",
   "output_path": "__notebook__.ipynb",
   "parameters": {},
   "start_time": "2024-05-28T19:44:04.426117",
   "version": "2.5.0"
  }
 },
 "nbformat": 4,
 "nbformat_minor": 5
}
